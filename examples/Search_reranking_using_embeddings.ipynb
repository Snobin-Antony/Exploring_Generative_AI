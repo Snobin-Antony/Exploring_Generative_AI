{
  "cells": [
    {
      "cell_type": "markdown",
      "metadata": {
        "id": "Tce3stUlHN0L"
      },
      "source": [
        "##### Copyright 2024 Google LLC."
      ]
    },
    {
      "cell_type": "code",
      "execution_count": 1,
      "metadata": {
        "cellView": "form",
        "id": "tuOe1ymfHZPu"
      },
      "outputs": [],
      "source": [
        "# @title Licensed under the Apache License, Version 2.0 (the \"License\");\n",
        "# you may not use this file except in compliance with the License.\n",
        "# You may obtain a copy of the License at\n",
        "#\n",
        "# https://www.apache.org/licenses/LICENSE-2.0\n",
        "#\n",
        "# Unless required by applicable law or agreed to in writing, software\n",
        "# distributed under the License is distributed on an \"AS IS\" BASIS,\n",
        "# WITHOUT WARRANTIES OR CONDITIONS OF ANY KIND, either express or implied.\n",
        "# See the License for the specific language governing permissions and\n",
        "# limitations under the License."
      ]
    },
    {
      "cell_type": "markdown",
      "metadata": {
        "id": "oJt4OFKPgO8C"
      },
      "source": [
        "# Search re-ranking using Gemini embeddings"
      ]
    },
    {
      "cell_type": "markdown",
      "metadata": {
        "id": "k5n0sCc_fKcB"
      },
      "source": [
        "<a target=\"_blank\" href=\"https://colab.research.google.com/github/google-gemini/cookbook/blob/main/examples/Search_reranking_using_embeddings.ipynb\"><img src=\"https://colab.research.google.com/assets/colab-badge.svg\" height=30/>"
      ]
    },
    {
      "cell_type": "markdown",
      "metadata": {
        "id": "0UO0Cgq0mRlG"
      },
      "source": [
        "This notebook demonstrates the use of embeddings to re-rank search results. This walkthrough will focus on the following objectives:\n",
        "\n",
        "\n",
        "\n",
        "1.   Setting up your development environment and API access to use Gemini.\n",
        "2.   Using Gemini's function calling support to access the Wikipedia API.\n",
        "3.   Embedding content via Gemini API.\n",
        "4.   Re-ranking the search results.\n"
      ]
    },
    {
      "cell_type": "markdown",
      "metadata": {
        "id": "-e5Aje-DTQOq"
      },
      "source": [
        "This is how you will implement search re-ranking:\n",
        "\n",
        "\n",
        "1.   The user will make a search query.\n",
        "2.   You will use Wikipedia API to return the relevant search results.\n",
        "3.   The search results will be embedded and their relevance will be evaluated by calculating distance metrics like cosine similarity.\n",
        "4.   The most relevant search result will be returned as the final answer."
      ]
    },
    {
      "cell_type": "markdown",
      "metadata": {
        "id": "rpVL_QrF5-oF"
      },
      "source": [
        "> The non-source code materials in this notebook are licensed under Creative Commons - Attribution-ShareAlike CC-BY-SA 4.0, https://creativecommons.org/licenses/by-sa/4.0/legalcode."
      ]
    },
    {
      "cell_type": "markdown",
      "metadata": {
        "id": "pwImlRg9DUp7"
      },
      "source": [
        "## Setup\n"
      ]
    },
    {
      "cell_type": "code",
      "execution_count": 2,
      "metadata": {
        "id": "Nv_6f_qNHe_2"
      },
      "outputs": [],
      "source": [
        "%pip install -q -U \"google-generativeai>=0.7.2\""
      ]
    },
    {
      "cell_type": "code",
      "execution_count": 3,
      "metadata": {
        "id": "5999faf240a4",
        "outputId": "da006b7f-423c-4ef4-e3b0-a7c215f0b119",
        "colab": {
          "base_uri": "https://localhost:8080/"
        }
      },
      "outputs": [
        {
          "output_type": "stream",
          "name": "stdout",
          "text": [
            "  Preparing metadata (setup.py) ... \u001b[?25l\u001b[?25hdone\n",
            "  Building wheel for wikipedia (setup.py) ... \u001b[?25l\u001b[?25hdone\n"
          ]
        }
      ],
      "source": [
        "%pip install -q wikipedia"
      ]
    },
    {
      "cell_type": "markdown",
      "metadata": {
        "id": "739f0bb73f05"
      },
      "source": [
        "Note: The [`wikipedia` package](https://pypi.org/project/wikipedia/) notes that it was \"designed for ease of use and simplicity, not for advanced use\", and that production or heavy use should instead \"use [Pywikipediabot](http://www.mediawiki.org/wiki/Manual:Pywikipediabot) or one of the other more advanced [Python MediaWiki API wrappers](http://en.wikipedia.org/wiki/Wikipedia:Creating_a_bot#Python)\"."
      ]
    },
    {
      "cell_type": "code",
      "execution_count": 4,
      "metadata": {
        "id": "D0qOtLI3FVid"
      },
      "outputs": [],
      "source": [
        "import json\n",
        "import textwrap\n",
        "\n",
        "import google.generativeai as genai\n",
        "\n",
        "import wikipedia\n",
        "from wikipedia.exceptions import DisambiguationError, PageError\n",
        "\n",
        "import numpy as np\n",
        "\n",
        "from IPython.display import Markdown\n",
        "\n",
        "def to_markdown(text):\n",
        "  text = text.replace('•', '  *')\n",
        "  return Markdown(textwrap.indent(text, '> ', predicate=lambda _: True))"
      ]
    },
    {
      "cell_type": "markdown",
      "metadata": {
        "id": "aeo_9J9iDtCx"
      },
      "source": [
        "To run the following cell, your API key must be stored it in a Colab Secret named `GOOGLE_API_KEY`. If you don't already have an API key, or you're not sure how to create a Colab Secret, see the [Authentication](https://github.com/google-gemini/cookbook/blob/main/quickstarts/Authentication.ipynb) quickstart for an example."
      ]
    },
    {
      "cell_type": "code",
      "execution_count": 7,
      "metadata": {
        "id": "yxzEH0GqLshI"
      },
      "outputs": [],
      "source": [
        "from google.colab import userdata\n",
        "GOOGLE_API_KEY=userdata.get('GOOGLE_API_KEY')\n",
        "genai.configure(api_key=GOOGLE_API_KEY)"
      ]
    },
    {
      "cell_type": "markdown",
      "metadata": {
        "id": "0hkJSFIWI7G1"
      },
      "source": [
        "## Define tools"
      ]
    },
    {
      "cell_type": "markdown",
      "metadata": {
        "id": "7HjN6hsAJkOq"
      },
      "source": [
        "As stated earlier, this tutorial uses Gemini's function calling support to access the Wikipedia API. Please refer to the [docs](https://ai.google.dev/docs/function_calling) to learn more about function calling."
      ]
    },
    {
      "cell_type": "markdown",
      "metadata": {
        "id": "fpFkazXUenkK"
      },
      "source": [
        "### Define the search function"
      ]
    },
    {
      "cell_type": "markdown",
      "metadata": {
        "id": "2fp-m-5Ke0XY"
      },
      "source": [
        "To cater to the search engine needs, you will design this function in the following way:\n",
        "\n",
        "\n",
        "*   For each search query, the search engine will use the `wikipedia.search` method to get relevant topics.\n",
        "*   From the relevant topics, the engine will choose `n_topics(int)` top candidates and will use `gemini-2.0-flash` to extract relevant information from the page.\n",
        "*   The engine will avoid duplicate entries by maintaining a search history.\n"
      ]
    },
    {
      "cell_type": "code",
      "execution_count": 8,
      "metadata": {
        "id": "2U27tdP8OBys"
      },
      "outputs": [],
      "source": [
        "def wikipedia_search(search_queries: list[str]) -> list[str]:\n",
        "  \"\"\"Search wikipedia for each query and summarize relevant docs.\"\"\"\n",
        "  n_topics=3\n",
        "  search_history = set() # tracking search history\n",
        "  search_urls = []\n",
        "  mining_model = genai.GenerativeModel('gemini-2.0-flash')\n",
        "  summary_results = []\n",
        "\n",
        "  for query in search_queries:\n",
        "    print(f'Searching for \"{query}\"')\n",
        "    search_terms = wikipedia.search(query)\n",
        "\n",
        "    print(f\"Related search terms: {search_terms[:n_topics]}\")\n",
        "    for search_term in search_terms[:n_topics]: # select first `n_topics` candidates\n",
        "      if search_term in search_history: # check if the topic is already covered\n",
        "        continue\n",
        "\n",
        "      print(f'Fetching page: \"{search_term}\"')\n",
        "      search_history.add(search_term) # add to search history\n",
        "\n",
        "      try:\n",
        "        # extract the relevant data by using `gemini-2.0-flash` model\n",
        "        page = wikipedia.page(search_term, auto_suggest=False)\n",
        "        url = page.url\n",
        "        print(f\"Information Source: {url}\")\n",
        "        search_urls.append(url)\n",
        "        page = page.content\n",
        "        response = mining_model.generate_content(textwrap.dedent(f\"\"\"\\\n",
        "            Extract relevant information\n",
        "            about user's query: {query}\n",
        "            From this source:\n",
        "\n",
        "            {page}\n",
        "\n",
        "            Note: Do not summarize. Only Extract and return the relevant information\n",
        "        \"\"\"))\n",
        "\n",
        "        urls = [url]\n",
        "        if response.candidates[0].citation_metadata:\n",
        "          extra_citations = response.candidates[0].citation_metadata.citation_sources\n",
        "          extra_urls = [source.url for source in extra_citations]\n",
        "          urls.extend(extra_urls)\n",
        "          search_urls.extend(extra_urls)\n",
        "          print(\"Additional citations:\", response.candidates[0].citation_metadata.citation_sources)\n",
        "        try:\n",
        "          text = response.text\n",
        "        except ValueError:\n",
        "          pass\n",
        "        else:\n",
        "          summary_results.append(text + \"\\n\\nBased on:\\n  \" + ',\\n  '.join(urls))\n",
        "\n",
        "      except DisambiguationError:\n",
        "        print(f\"\"\"Results when searching for \"{search_term}\" (originally for \"{query}\")\n",
        "        were ambiguous, hence skipping\"\"\")\n",
        "        continue\n",
        "\n",
        "      except PageError:\n",
        "        print(f'{search_term} did not match with any page id, hence skipping.')\n",
        "        continue\n",
        "\n",
        "      except:\n",
        "        print(f'{search_term} did not match with any page id, hence skipping.')\n",
        "        continue\n",
        "\n",
        "  print(f\"Information Sources:\")\n",
        "  for url in search_urls:\n",
        "    print('    ', url)\n",
        "\n",
        "  return summary_results\n"
      ]
    },
    {
      "cell_type": "code",
      "execution_count": 9,
      "metadata": {
        "id": "EWKkkKDXmzOX",
        "outputId": "4ca5d46d-ccf0-456f-d770-16dbdf2ead74",
        "colab": {
          "base_uri": "https://localhost:8080/",
          "height": 243
        }
      },
      "outputs": [
        {
          "output_type": "stream",
          "name": "stdout",
          "text": [
            "Searching for \"What are LLMs?\"\n",
            "Related search terms: ['Large language model', 'Vibe coding', 'DeepSeek']\n",
            "Fetching page: \"Large language model\"\n",
            "Information Source: https://en.wikipedia.org/wiki/Large_language_model\n",
            "Large language model did not match with any page id, hence skipping.\n",
            "Fetching page: \"Vibe coding\"\n",
            "Information Source: https://en.wikipedia.org/wiki/Vibe_coding\n",
            "Fetching page: \"DeepSeek\"\n",
            "Information Source: https://en.wikipedia.org/wiki/DeepSeek\n",
            "Information Sources:\n",
            "     https://en.wikipedia.org/wiki/Large_language_model\n",
            "     https://en.wikipedia.org/wiki/Vibe_coding\n",
            "     https://en.wikipedia.org/wiki/DeepSeek\n"
          ]
        }
      ],
      "source": [
        "example = wikipedia_search([\"What are LLMs?\"])"
      ]
    },
    {
      "cell_type": "markdown",
      "metadata": {
        "id": "8bPT114QEPgW"
      },
      "source": [
        "Here is what the search results look like:"
      ]
    },
    {
      "cell_type": "code",
      "execution_count": 10,
      "metadata": {
        "id": "8wy7YUFqEYTv",
        "outputId": "0084f2c2-155a-4d4c-d31b-389fc6eb58df",
        "colab": {
          "base_uri": "https://localhost:8080/",
          "height": 158
        }
      },
      "outputs": [
        {
          "output_type": "display_data",
          "data": {
            "text/plain": [
              "<IPython.core.display.Markdown object>"
            ],
            "text/markdown": "> LLMs are large language models tuned for coding, which are used in vibe coding to generate software from natural language prompts.\n> \n> \n> Based on:\n>   https://en.wikipedia.org/wiki/Vibe_coding"
          },
          "metadata": {}
        },
        {
          "output_type": "display_data",
          "data": {
            "text/plain": [
              "<IPython.core.display.Markdown object>"
            ],
            "text/markdown": "> LLMs are large language models. DeepSeek, a Chinese artificial intelligence company, develops LLMs. DeepSeek-R1 provides responses comparable to other contemporary large language models, such as OpenAI's GPT-4 and o1. Its training cost is reported to be significantly lower than other LLMs.\n> \n> \n> Based on:\n>   https://en.wikipedia.org/wiki/DeepSeek"
          },
          "metadata": {}
        }
      ],
      "source": [
        "from IPython.display import display\n",
        "\n",
        "for e in example:\n",
        "  display(to_markdown(e))"
      ]
    },
    {
      "cell_type": "markdown",
      "metadata": {
        "id": "SKcH1LICeg5Z"
      },
      "source": [
        "### Pass the tools to the model"
      ]
    },
    {
      "cell_type": "markdown",
      "metadata": {
        "id": "qQcxR7cjLjGM"
      },
      "source": [
        "If you pass a list of functions to the `GenerativeModel`'s `tools` argument,\n",
        "it will extract a schema from the function's signature and type hints, and then pass schema along to the API calls. In response the model may return a `FunctionCall` object asking to call the function.\n",
        "\n",
        "Note: This approach only handles annotations of `AllowedTypes = int | float | str | dict | list['AllowedTypes']`\n",
        "\n",
        "The `GenerativeModel` will keep a reference to the function inself, so that it _can_ execute the function locally later."
      ]
    },
    {
      "cell_type": "code",
      "execution_count": 11,
      "metadata": {
        "id": "39kqTnBRLDeQ"
      },
      "outputs": [],
      "source": [
        "model = genai.GenerativeModel(\n",
        "    'gemini-2.0-flash',\n",
        "    tools=[wikipedia_search],\n",
        "    generation_config={'temperature': 0.6})"
      ]
    },
    {
      "cell_type": "markdown",
      "metadata": {
        "id": "VedPbpzlh6jX"
      },
      "source": [
        "## Generate supporting search queries"
      ]
    },
    {
      "cell_type": "markdown",
      "metadata": {
        "id": "5sLKZik7isBW"
      },
      "source": [
        "In order to have multiple supporting search queries to the user's original query, you will ask the model to generate more such queries. This would help the engine to cover the asked question on comprehensive levels."
      ]
    },
    {
      "cell_type": "code",
      "execution_count": 12,
      "metadata": {
        "id": "Z-Ym3H9KIosY"
      },
      "outputs": [],
      "source": [
        "instructions = \"\"\"You have access to the Wikipedia API which you will be using\n",
        "to answer a user's query. Your job is to generate a list of search queries which\n",
        "might answer a user's question. Be creative by using various key-phrases from\n",
        "the user's query. To generate variety of queries, ask questions which are\n",
        "related to  the user's query that might help to find the answer. The more\n",
        "queries you generate the better are the odds of you finding the correct answer.\n",
        "Here is an example:\n",
        "\n",
        "user: Tell me about Cricket World cup 2023 winners.\n",
        "\n",
        "function_call: wikipedia_search(['What is the name of the team that\n",
        "won the Cricket World Cup 2023?', 'Who was the captain of the Cricket World Cup\n",
        "2023 winning team?', 'Which country hosted the Cricket World Cup 2023?', 'What\n",
        "was the venue of the Cricket World Cup 2023 final match?', 'Cricket World cup 2023',\n",
        "'Who lifted the Cricket World Cup 2023 trophy?'])\n",
        "\n",
        "The search function will return a list of article summaries, use these to\n",
        "answer the  user's question.\n",
        "\n",
        "Here is the user's query: {query}\n",
        "\"\"\""
      ]
    },
    {
      "cell_type": "markdown",
      "metadata": {
        "id": "3Wyn3lV-d5S_"
      },
      "source": [
        "In order to yield creative and a more random variety of questions, you will set the model's temperature parameter to a value higher. Values can range from [0.0,1.0], inclusive. A value closer to 1.0 will produce responses that are more varied and creative, while a value closer to 0.0 will typically result in more straightforward responses from the model."
      ]
    },
    {
      "cell_type": "markdown",
      "metadata": {
        "id": "TD1vU6FXhYO5"
      },
      "source": [
        "## Enable automatic function calling and call the API"
      ]
    },
    {
      "cell_type": "markdown",
      "metadata": {
        "id": "qyUSnXJ5hg6x"
      },
      "source": [
        "Now start a new chat with `enable_automatic_function_calling=True`. With it enabled, the `genai.ChatSession` will handle the back and forth required to call the function, and return the final response:"
      ]
    },
    {
      "cell_type": "code",
      "execution_count": 13,
      "metadata": {
        "id": "ZNJqA60yKNpT",
        "outputId": "51fd11d7-1736-403a-e29a-4a51e62956b6",
        "colab": {
          "base_uri": "https://localhost:8080/",
          "height": 1000
        }
      },
      "outputs": [
        {
          "output_type": "stream",
          "name": "stdout",
          "text": [
            "Searching for \"deep sea life adaptations\"\n",
            "Related search terms: ['Deep sea', 'Deep-sea fish', 'Deep-sea gigantism']\n",
            "Fetching page: \"Deep sea\"\n",
            "Information Source: https://en.wikipedia.org/wiki/Deep_sea\n",
            "Fetching page: \"Deep-sea fish\"\n",
            "Information Source: https://en.wikipedia.org/wiki/Deep-sea_fish\n",
            "Deep-sea fish did not match with any page id, hence skipping.\n",
            "Fetching page: \"Deep-sea gigantism\"\n",
            "Information Source: https://en.wikipedia.org/wiki/Deep-sea_gigantism\n",
            "Searching for \"deep sea ecosystem survival strategies\"\n",
            "Related search terms: ['Kelp forest', 'Sea lion', 'Marine coastal ecosystem']\n",
            "Fetching page: \"Kelp forest\"\n",
            "Information Source: https://en.wikipedia.org/wiki/Kelp_forest\n",
            "Fetching page: \"Sea lion\"\n",
            "Information Source: https://en.wikipedia.org/wiki/Sea_lion\n",
            "Fetching page: \"Marine coastal ecosystem\"\n",
            "Information Source: https://en.wikipedia.org/wiki/Marine_coastal_ecosystem\n",
            "Searching for \"hydrothermal vent life\"\n",
            "Related search terms: ['Hydrothermal vent', 'Endeavour Hydrothermal Vents', 'Hydrothermal vent microbial communities']\n",
            "Fetching page: \"Hydrothermal vent\"\n",
            "Information Source: https://en.wikipedia.org/wiki/Hydrothermal_vent\n",
            "Hydrothermal vent did not match with any page id, hence skipping.\n",
            "Fetching page: \"Endeavour Hydrothermal Vents\"\n",
            "Information Source: https://en.wikipedia.org/wiki/Endeavour_Hydrothermal_Vents\n",
            "Fetching page: \"Hydrothermal vent microbial communities\"\n",
            "Information Source: https://en.wikipedia.org/wiki/Hydrothermal_vent_microbial_communities\n",
            "Hydrothermal vent microbial communities did not match with any page id, hence skipping.\n",
            "Searching for \"deep sea food sources\"\n",
            "Related search terms: ['Deep-sea fish', 'Deep sea', 'Deep-sea community']\n",
            "Fetching page: \"Deep-sea community\"\n",
            "Information Source: https://en.wikipedia.org/wiki/Deep-sea_community\n",
            "Deep-sea community did not match with any page id, hence skipping.\n",
            "Searching for \"deep sea pressure effects on life\"\n",
            "Related search terms: ['Deep sea', 'Deep-sea gigantism', 'Deep-sea community']\n",
            "Searching for \"deep sea temperature effects on life\"\n",
            "Related search terms: ['Deep-sea gigantism', 'Deep sea', 'Deep-sea community']\n",
            "Searching for \"bioluminescence in deep sea creatures\"\n",
            "Related search terms: ['Deep-sea community', 'Deep-sea fish', 'Deep sea']\n",
            "Searching for \"chemosynthesis in deep sea organisms\"\n",
            "Related search terms: ['Chemosynthesis', 'Hydrothermal vent', 'Deep sea']\n",
            "Fetching page: \"Chemosynthesis\"\n",
            "Information Source: https://en.wikipedia.org/wiki/Chemosynthesis\n",
            "Chemosynthesis did not match with any page id, hence skipping.\n",
            "Searching for \"how do deep-sea organisms get energy?\"\n",
            "Related search terms: ['Hydrothermal vent', 'Deep sea mining', 'Sea']\n",
            "Fetching page: \"Deep sea mining\"\n",
            "Information Source: https://en.wikipedia.org/wiki/Deep_sea_mining\n",
            "Fetching page: \"Sea\"\n",
            "Information Source: https://en.wikipedia.org/wiki/Sea\n",
            "Sea did not match with any page id, hence skipping.\n",
            "Searching for \"deep sea life without sunlight\"\n",
            "Related search terms: ['Deep sea', 'Deep-sea fish', 'Deep-sea community']\n",
            "Information Sources:\n",
            "     https://en.wikipedia.org/wiki/Deep_sea\n",
            "     https://en.wikipedia.org/wiki/Deep-sea_fish\n",
            "     https://en.wikipedia.org/wiki/Deep-sea_gigantism\n",
            "     https://en.wikipedia.org/wiki/Kelp_forest\n",
            "     https://en.wikipedia.org/wiki/Sea_lion\n",
            "     https://en.wikipedia.org/wiki/Marine_coastal_ecosystem\n",
            "     https://en.wikipedia.org/wiki/Hydrothermal_vent\n",
            "     https://en.wikipedia.org/wiki/Endeavour_Hydrothermal_Vents\n",
            "     https://en.wikipedia.org/wiki/Hydrothermal_vent_microbial_communities\n",
            "     https://en.wikipedia.org/wiki/Deep-sea_community\n",
            "     https://en.wikipedia.org/wiki/Chemosynthesis\n",
            "     https://en.wikipedia.org/wiki/Deep_sea_mining\n",
            "     https://en.wikipedia.org/wiki/Sea\n"
          ]
        }
      ],
      "source": [
        "model = genai.GenerativeModel(\n",
        "    'gemini-2.0-flash', tools=[wikipedia_search], generation_config={'temperature': 0.6})\n",
        "\n",
        "chat = model.start_chat(enable_automatic_function_calling=True)\n",
        "\n",
        "query = \"Explain how deep-sea life survives.\"\n",
        "\n",
        "res = chat.send_message(instructions.format(query=query))"
      ]
    },
    {
      "cell_type": "code",
      "execution_count": 14,
      "metadata": {
        "id": "1l8KWb13M_lJ",
        "outputId": "2c4fb209-5fb3-46b3-8e40-fb8c0c4256dd",
        "colab": {
          "base_uri": "https://localhost:8080/",
          "height": 302
        }
      },
      "outputs": [
        {
          "output_type": "execute_result",
          "data": {
            "text/plain": [
              "<IPython.core.display.Markdown object>"
            ],
            "text/markdown": "> Deep-sea life survives in a challenging environment characterized by low temperatures, darkness, high pressure, and scarce food. Organisms have adapted in various ways to overcome these challenges:\n> \n> 1.  **Adaptations to Darkness:** Many deep-sea creatures have developed large, tubular eyes with only rod cells, an upward field of vision, lateral compression of the body, counter-illumination via bioluminescence and retroreflectors behind the retina.\n> 2.  **Feeding Adaptations:** Deep-sea life relies on scavenging, predation, filtration, and marine snow (organic material falling from upper waters). Filter feeders use tentacles to feed upon organic particles.\n> 3.  **General Biological Adaptations:** Many species have jelly-like flesh for buoyancy, small size, slow metabolisms, unspecialized diets, elongated bodies with weak muscles, extendable jaws, and hermaphroditism.\n> 4.  **Adaptation to Hydrostatic Pressure:** Deep-sea organisms have changes in protein structure and function, increased salt bridges in actin, accumulation of specific osmolytes like Trimethylamine N-oxide (TMAO) to protect proteins.\n> 5.  **Chemosynthesis-based Ecosystems:** Hydrothermal vent communities rely on chemosynthetic bacteria instead of sunlight. Tube worms (Riftia) have a symbiotic relationship with chemosynthetic bacteria.\n> 6. **Deep-sea gigantism:** Some deep-sea animals tend to be larger than their shallow-water relatives as an adaptation to colder temperatures, food scarcity, reduced predation pressure, and increased dissolved oxygen concentrations.\n"
          },
          "metadata": {},
          "execution_count": 14
        }
      ],
      "source": [
        "to_markdown(res.text)"
      ]
    },
    {
      "cell_type": "markdown",
      "metadata": {
        "id": "ua7DPlj7HZyO"
      },
      "source": [
        "Check for additional citations:"
      ]
    },
    {
      "cell_type": "code",
      "execution_count": 15,
      "metadata": {
        "id": "ASotq7EcHAeo",
        "outputId": "6aa82c43-111d-4444-ff15-088ecb1f18a4",
        "colab": {
          "base_uri": "https://localhost:8080/",
          "height": 35
        }
      },
      "outputs": [
        {
          "output_type": "execute_result",
          "data": {
            "text/plain": [
              "'No citations found'"
            ],
            "application/vnd.google.colaboratory.intrinsic+json": {
              "type": "string"
            }
          },
          "metadata": {},
          "execution_count": 15
        }
      ],
      "source": [
        "res.candidates[0].citation_metadata or 'No citations found'"
      ]
    },
    {
      "cell_type": "markdown",
      "metadata": {
        "id": "A0CfKMjYFSQm"
      },
      "source": [
        "That looks like it worked. You can go through the chat history to see the details of what was sent and received in the function calls:"
      ]
    },
    {
      "cell_type": "code",
      "execution_count": 16,
      "metadata": {
        "id": "_9h2b8saNnxh",
        "outputId": "a76d749f-abb9-4458-f0f9-536bc36c54c6",
        "colab": {
          "base_uri": "https://localhost:8080/"
        }
      },
      "outputs": [
        {
          "output_type": "stream",
          "name": "stdout",
          "text": [
            "user -> {\n",
            "  \"text\": \"You have access to the Wikipedia API which you will be using\\nto answer a user's query. Your job is to generate a list of search queries which\\nmight answer a user's question. Be creative by using various key-phrases from\\nthe user's query. To generate variety of queries, ask questions which are\\nrelated to  the user's query that might help to find the answer. The more\\nqueries you generate the better are the odds of you finding the correct answer.\\nHere is an example:\\n\\nuser: Tell me about Cricket World cup 2023 winners.\\n\\nfunction_call: wikipedia_search(['What is the name of the team that\\nwon the Cricket World Cup 2023?', 'Who was the captain of the Cricket World Cup\\n2023 winning team?', 'Which country hosted the Cricket World Cup 2023?', 'What\\nwas the venue of the Cricket World Cup 2023 final match?', 'Cricket World cup 2023',\\n'Who lifted the Cricket World Cup 2023 trophy?'])\\n\\nThe search function will return a list of article summaries, use these to\\nanswer the  user's question.\\n\\nHere is the user's query: Explain how deep-sea life survives.\\n\"\n",
            "}\n",
            "------------------------------------------------------------\n",
            "model -> {\n",
            "  \"function_call\": {\n",
            "    \"name\": \"wikipedia_search\",\n",
            "    \"args\": {\n",
            "      \"search_queries\": [\n",
            "        \"deep sea life adaptations\",\n",
            "        \"deep sea ecosystem survival strategies\",\n",
            "        \"hydrothermal vent life\",\n",
            "        \"deep sea food sources\",\n",
            "        \"deep sea pressure effects on life\",\n",
            "        \"deep sea temperature effects on life\",\n",
            "        \"bioluminescence in deep sea creatures\",\n",
            "        \"chemosynthesis in deep sea organisms\",\n",
            "        \"how do deep-sea organisms get energy?\",\n",
            "        \"deep sea life without sunlight\"\n",
            "      ]\n",
            "    },\n",
            "    \"id\": \"\"\n",
            "  }\n",
            "}\n",
            "------------------------------------------------------------\n",
            "user -> {\n",
            "  \"function_response\": {\n",
            "    \"name\": \"wikipedia_search\",\n",
            "    \"response\": {\n",
            "      \"result\": [\n",
            "        \"Here's a breakdown of information from the text related to deep-sea life adaptations:\\n\\n*   **Environmental Challenges:**\\n    *   Low temperatures\\n    *   Darkness (no light penetration except in the upper mesopelagic)\\n    *   High pressure (increases by 1 atmosphere every 10 meters)\\n    *   Scarce food (relies on marine snow and carcasses from above)\\n*   **Feeding Adaptations:**\\n    *   Scavenging, predation, filtration\\n    *   Reliance on marine snow (organic material falling from upper waters)\\n    *   Filter feeders that feed upon organic particles using tentacles\\n*   **General Biological Adaptations:**\\n    *   Many species have jelly-like flesh (mostly glycosaminoglycans) for low density and buoyancy.\\n    *   Some deep water squid have gelatinous tissue and a flotation chamber filled with ammonium chloride.\\n    *   Small size (under 25 cm) in midwater fish\\n    *   Slow metabolisms and unspecialized diets\\n    *   Elongated bodies with weak muscles and skeletal structures\\n    *   Extendable, hinged jaws with recurved teeth\\n    *   Hermaphroditism (due to difficulty finding partners)\\n*   **Adaptations to Darkness:**\\n    *   Large, tubular eyes with only rod cells\\n    *   Upward field of vision to detect silhouettes of prey\\n    *   Lateral compression of body (to reduce shadow)\\n    *   Counter-illumination via bioluminescence (ventral photophores)\\n    *   Retroreflectors behind the retina (in some fish)\\n    *   Photophores and tapetum lucidum (Flashlight fish)\\n*   **Adaptation to Hydrostatic Pressure:**\\n    *   Changes in protein structure and function, including adaptations in actin.\\n    *   Increased salt bridges in actin for better stabilization under pressure\\n    *   Accumulation of specific osmolytes like Trimethylamine N-oxide (TMAO) to protect proteins.\\n    *   Modification in Osteocalcin(burlap) gene, where premature termination of the gene was found.\\n*   **Chemosynthesis-based Ecosystems:**\\n    *   Hydrothermal vent communities that rely on chemosynthetic bacteria instead of sunlight.\\n    *   Example: symbiotic relationship between tube worms (Riftia) and chemosynthetic bacteria.\\n\\n\\nBased on:\\n  https://en.wikipedia.org/wiki/Deep_sea\",\n",
            "        \"*   **Deep-sea gigantism (abyssal gigantism):** The tendency for deep-sea animals to be larger than their shallow-water relatives.\\n*   **Proposed explanations:**\\n    *   Adaptation to colder temperatures\\n    *   Food scarcity\\n    *   Reduced predation pressure\\n    *   Increased dissolved oxygen concentrations\\n*   **Taxonomic range:**\\n    *   **Crustaceans:** mysids, euphausiids, decapods, isopods, ostracods, and amphipods.\\n    *   **Non-arthropods:** cephalopods, cnidarians, and eels (Anguilliformes).\\n*   **Examples of organisms exhibiting deep-sea gigantism:**\\n    *   Big red jellyfish\\n    *   Stygiomedusa jellyfish\\n    *   Giant isopod\\n    *   Giant ostracod\\n    *   Giant sea spider\\n    *   Giant amphipod\\n    *   Japanese spider crab\\n    *   Giant oarfish\\n    *   Deepwater stingray\\n    *   Seven-arm octopus\\n    *   Colossal squid (up to 14 m)\\n    *   Giant squid (up to 12 m)\\n    *   Megalocranchia fisheri\\n    *   Robust clubhook squid\\n    *   Dana octopus squid\\n    *   Cockatoo squid\\n    *   Giant warty squid\\n    *   Bigfin squids (Magnapinna)\\n*   **Meiofauna:** Do *not* exhibit deep-sea gigantism; they show a trend of decreasing size with depth.\\n*   **Lower Temperature:** Similar to Bergmann's rule (increasing size with decreasing temperature), leading to increased cell size and lifespan, and delayed sexual maturity. Reduced vertical temperature gradient in Arctic/Antarctic seas correlates with a reduced trend towards increased body size with depth.\\n*   **Food Scarcity:** Larger body size improves foraging ability. Larger offspring with greater food reserves can drift for greater distances. Giant isopods gorge on food and can survive long periods without it.\\n*   **Reduced Predation Pressure:** Predation is less frequent at greater depths.\\n*   **Increased Dissolved Oxygen:** Maximum organism size correlates with increased dissolved oxygen levels in deeper waters. Deep-sea gigantism could be an adaptive trait to combat asphyxiation in frigid, dense ocean waters.\\n\\n\\nBased on:\\n  https://en.wikipedia.org/wiki/Deep-sea_gigantism\",\n",
            "        \"The provided text focuses primarily on kelp forest ecosystems, not deep-sea ecosystems. While it mentions the discovery of kelp forests in tropical deep waters, it does not extensively discuss the survival strategies of organisms within deep-sea ecosystems. Therefore, the information directly addressing your query is limited.\\n\\nHere's what can be extracted that is remotely relevant:\\n\\n*   **Kelp forests in tropical deep waters:** A few species of *Laminaria* have been found exclusively in tropical deep waters, suggesting they have adapted to these conditions. A model predicted subsurface kelp throughout the tropics to depths of 200m (660 ft). Kelp forests in deep waters can provide marine organisms spatial refuge under climate change.\\n\\n\\nBased on:\\n  https://en.wikipedia.org/wiki/Kelp_forest\",\n",
            "        \"This document primarily focuses on sea lions, their taxonomy, physiology, breeding habits, interactions with humans, and population, but it does not contain specific information about \\\"deep sea ecosystem survival strategies.\\\" Therefore, based on the provided text, there is no relevant information to extract regarding deep sea ecosystem survival strategies.\\n\\n\\nBased on:\\n  https://en.wikipedia.org/wiki/Sea_lion\",\n",
            "        \"This document primarily discusses **coastal** ecosystems, not deep-sea ecosystems.  Therefore, direct information about deep-sea ecosystem survival strategies is absent. However, there are concepts within the provided text that could be *indirectly* related or relevant if one were considering coastal species that also inhabit deeper waters, or drawing parallels.\\n\\nHere are extractions of relevant information based on the *components* of the query:\\n*   **Ecosystem survival strategies (in general):**\\n    *   **Adaptation to varied conditions:** Resilience in wildlife to withstand changing environmental conditions (e.g., barnacles, marine snails, mussels and hermit crabs in intertidal zones).\\n    *   **Symbiotic relationships:** Coral reefs rely on symbiotic relationships with organisms around them.\\n    *   **Refuges and Nursery habitats:** Kelp forests, seagrass meadows provide refuge and nurseries.\\n    *   **Sequestration of carbon:** Coastal ecosystems sequester carbon.\\n    *   **Nutrient cycling:** Coastal ecosystems cycle nutrients.\\n    *   **Habitat structure:** Structures like coral reefs and kelp forests provide habitat and food.\\n    *   **Connectivity**: Maintaining connectivity between habitat patches is critical to structuring populations\\n*   **Threats:**\\n    *   Climate change (sea level rise, ocean acidification, storm frequency/intensity)\\n    *   Pollution\\n    *   Overfishing\\n    *   Coastal development\\n    *   Habitat loss (e.g., conversion to aquaculture, agriculture, urban development)\\n    *   Eutrophication (excess nutrients)\\n    *   Invasive species\\n    *   Overharvesting by humans\\n    *   Industrialisation and urbanisation\\n*   **Conservation Strategies (to improve the survival):**\\n    *   Establishing marine protected areas\\n    *   Developing sustainable fishing practices\\n    *   Ecosystem restoration (e.g., mangrove restoration)\\n    *   Reducing nutrient loads\\n    *   Consideration of ecological processes that shape the distribution and abundance of biodiversity features.\\n    *   Designing systems of marine protected areas that maintain connectivity between habitat patches\\n    *   Spatial conservation prioritisation\\n\\nThe information focuses on adaptations to coastal conditions (salinity changes in estuaries, intertidal zone exposure), food web dynamics, and the impact of human activities. This information can be useful for general understanding of survival strategies, threats, and solutions.\\n\\n\\nBased on:\\n  https://en.wikipedia.org/wiki/Marine_coastal_ecosystem\",\n",
            "        \"*   **Location:** Northeastern Pacific Ocean, 260 km southwest of Vancouver Island, British Columbia, Canada. 2,250 meters below sea level on the northern Endeavour segment of the Juan de Fuca Ridge.\\n*   **Discovery:** Active vent field confirmed in 1984.\\n*   **Temperature Variation:** Temperatures differ at various depths, even meters apart, affecting the microorganisms and invertebrates present.\\n*   **Biodiversity:** High biodiversity and productivity. Habitat for unique animal species. 12 endemic species, including the sea spider (Sericosura venticola), which is classified as imperiled. Marine mammals such as Dall's porpoise, sperm whales, and leatherback sea turtles have been spotted.\\n*   **Organisms:** Range from microorganisms to invertebrates.\\n*   **Microorganisms:** Dominated by proteobacteria and archaea. Many microbes have sulfur-oxidizing or sulfur-reducing metabolisms. High flow areas have sulfur and hydrogen oxidizing bacteria, while low flow areas are dominated by heterotrophic bacteria. Epsilonproteobacteria are dominant bacteria at some sites.\\n*   **Invertebrates:** Tubeworms (Ridgeia piscesae) are common, with morphology varying by flow rate. Other species include spider crabs (Macroregonia macrochira), sulphide worms (Paralvinella sulfincola), limpets (Lepetodrilus), polynoid scaleworms, and palm worms (Paralvinellae palmiformis).\\n*   **Chemosynthesis:** Symbiotic vent bacteria provide nutrients to animals through chemosynthesis.\\n*   **Extremophiles:** A sulfide-hosted microbe from this site can live in environments up to 121 \\u00b0C.\\n*   **Protection:** Designated as a Canadian Marine Protected Area to protect its unique biological environment.\\n\\n\\nBased on:\\n  https://en.wikipedia.org/wiki/Endeavour_Hydrothermal_Vents\",\n",
            "        \"The provided text focuses primarily on deep-sea mining, its environmental impact, regulations, economic aspects, and geopolitical implications. It does not contain information on how deep-sea organisms get their energy. Therefore, no relevant information can be extracted from the source about the user's query.\\n\\n\\nBased on:\\n  https://en.wikipedia.org/wiki/Deep_sea_mining\"\n",
            "      ]\n",
            "    },\n",
            "    \"id\": \"\"\n",
            "  }\n",
            "}\n",
            "------------------------------------------------------------\n",
            "model -> {\n",
            "  \"text\": \"Deep-sea life survives in a challenging environment characterized by low temperatures, darkness, high pressure, and scarce food. Organisms have adapted in various ways to overcome these challenges:\\n\\n1.  **Adaptations to Darkness:** Many deep-sea creatures have developed large, tubular eyes with only rod cells, an upward field of vision, lateral compression of the body, counter-illumination via bioluminescence and retroreflectors behind the retina.\\n2.  **Feeding Adaptations:** Deep-sea life relies on scavenging, predation, filtration, and marine snow (organic material falling from upper waters). Filter feeders use tentacles to feed upon organic particles.\\n3.  **General Biological Adaptations:** Many species have jelly-like flesh for buoyancy, small size, slow metabolisms, unspecialized diets, elongated bodies with weak muscles, extendable jaws, and hermaphroditism.\\n4.  **Adaptation to Hydrostatic Pressure:** Deep-sea organisms have changes in protein structure and function, increased salt bridges in actin, accumulation of specific osmolytes like Trimethylamine N-oxide (TMAO) to protect proteins.\\n5.  **Chemosynthesis-based Ecosystems:** Hydrothermal vent communities rely on chemosynthetic bacteria instead of sunlight. Tube worms (Riftia) have a symbiotic relationship with chemosynthetic bacteria.\\n6. **Deep-sea gigantism:** Some deep-sea animals tend to be larger than their shallow-water relatives as an adaptation to colder temperatures, food scarcity, reduced predation pressure, and increased dissolved oxygen concentrations.\\n\"\n",
            "}\n",
            "------------------------------------------------------------\n"
          ]
        }
      ],
      "source": [
        "for content in chat.history:\n",
        "  part = content.parts[0]\n",
        "\n",
        "  print(f'{content.role} -> ', end='')\n",
        "  print(json.dumps(type(part).to_dict(part), indent=2))\n",
        "  print('---' * 20)\n"
      ]
    },
    {
      "cell_type": "markdown",
      "metadata": {
        "id": "WDWc9Fj9Ig6A"
      },
      "source": [
        "In the chat history you can see all 4 steps:\n",
        "\n",
        "1. The user sent the query.\n",
        "2. The model replied with a `genai.protos.FunctionCall` calling the `wikipedia_search` with a number of relevant searches.\n",
        "3. Because you set `enable_automatic_function_calling=True` when creating the `genai.ChatSession`, it  executed the search function and returned the list of article summaries to the model.\n",
        "4. Folliwing the instructions in the prompt, the model generated a final answer based on those summaries.\n"
      ]
    },
    {
      "cell_type": "markdown",
      "metadata": {
        "id": "PJP1EAgfnPUA"
      },
      "source": [
        "## [Optional] Manually execute the function call"
      ]
    },
    {
      "cell_type": "markdown",
      "metadata": {
        "id": "Sa5ke2ssKl7M"
      },
      "source": [
        "If you want to understand what happened behind the scenes, this section executes the `FunctionCall` manually to demonstrate."
      ]
    },
    {
      "cell_type": "code",
      "execution_count": 17,
      "metadata": {
        "id": "wavbHrL3K5vo"
      },
      "outputs": [],
      "source": [
        "chat = model.start_chat()"
      ]
    },
    {
      "cell_type": "code",
      "execution_count": 18,
      "metadata": {
        "id": "ON4LTcmiLs2E"
      },
      "outputs": [],
      "source": [
        "result = chat.send_message(instructions.format(query=query))"
      ]
    },
    {
      "cell_type": "markdown",
      "metadata": {
        "id": "__JN3YuHe7fR"
      },
      "source": [
        "Initially the model returns a FunctionCall:"
      ]
    },
    {
      "cell_type": "code",
      "execution_count": 19,
      "metadata": {
        "id": "Lgngdvcdi06F",
        "outputId": "6a53ac72-11b3-455a-9f6a-287e02c185f4",
        "colab": {
          "base_uri": "https://localhost:8080/"
        }
      },
      "outputs": [
        {
          "output_type": "stream",
          "name": "stdout",
          "text": [
            "{\n",
            "  \"name\": \"wikipedia_search\",\n",
            "  \"args\": {\n",
            "    \"search_queries\": [\n",
            "      \"deep-sea life adaptations\",\n",
            "      \"deep-sea ecosystems\",\n",
            "      \"hydrothermal vent ecosystems\",\n",
            "      \"deep-sea chemosynthesis\",\n",
            "      \"how do deep-sea creatures get energy?\",\n",
            "      \"deep-sea food web\",\n",
            "      \"challenges of deep-sea life\",\n",
            "      \"deep-sea pressure adaptations\",\n",
            "      \"deep-sea temperature adaptations\",\n",
            "      \"deep-sea oxygen levels\",\n",
            "      \"bioluminescence in deep-sea life\"\n",
            "    ]\n",
            "  },\n",
            "  \"id\": \"\"\n",
            "}\n"
          ]
        }
      ],
      "source": [
        "fc = result.candidates[0].content.parts[0].function_call\n",
        "fc = type(fc).to_dict(fc)\n",
        "print(json.dumps(fc, indent=2))"
      ]
    },
    {
      "cell_type": "code",
      "execution_count": 20,
      "metadata": {
        "id": "Bfp1Kqv7PE8N",
        "outputId": "f7608229-f227-4ffd-c128-c20ec67849a7",
        "colab": {
          "base_uri": "https://localhost:8080/",
          "height": 35
        }
      },
      "outputs": [
        {
          "output_type": "execute_result",
          "data": {
            "text/plain": [
              "'wikipedia_search'"
            ],
            "application/vnd.google.colaboratory.intrinsic+json": {
              "type": "string"
            }
          },
          "metadata": {},
          "execution_count": 20
        }
      ],
      "source": [
        "fc['name']"
      ]
    },
    {
      "cell_type": "markdown",
      "metadata": {
        "id": "xpD3axtDmfZb"
      },
      "source": [
        "Call the function with generated arguments to get the results."
      ]
    },
    {
      "cell_type": "code",
      "execution_count": 21,
      "metadata": {
        "id": "Ek4g-CTAPSou",
        "outputId": "89eca350-8edd-4353-f7b5-6f8f373dd733",
        "colab": {
          "base_uri": "https://localhost:8080/",
          "height": 1000
        }
      },
      "outputs": [
        {
          "output_type": "stream",
          "name": "stdout",
          "text": [
            "Searching for \"deep-sea life adaptations\"\n",
            "Related search terms: ['Deep sea', 'Deep-sea fish', 'Deep-sea gigantism']\n",
            "Fetching page: \"Deep sea\"\n",
            "Information Source: https://en.wikipedia.org/wiki/Deep_sea\n",
            "Deep sea did not match with any page id, hence skipping.\n",
            "Fetching page: \"Deep-sea fish\"\n",
            "Information Source: https://en.wikipedia.org/wiki/Deep-sea_fish\n",
            "Deep-sea fish did not match with any page id, hence skipping.\n",
            "Fetching page: \"Deep-sea gigantism\"\n",
            "Information Source: https://en.wikipedia.org/wiki/Deep-sea_gigantism\n",
            "Searching for \"deep-sea ecosystems\"\n",
            "Related search terms: ['Deep-sea community', 'Deep sea mining', 'Deep sea']\n",
            "Fetching page: \"Deep-sea community\"\n",
            "Information Source: https://en.wikipedia.org/wiki/Deep-sea_community\n",
            "Deep-sea community did not match with any page id, hence skipping.\n",
            "Fetching page: \"Deep sea mining\"\n",
            "Information Source: https://en.wikipedia.org/wiki/Deep_sea_mining\n",
            "Deep sea mining did not match with any page id, hence skipping.\n",
            "Searching for \"hydrothermal vent ecosystems\"\n",
            "Related search terms: ['Hydrothermal vent', 'Scaly-foot gastropod', \"Loki's Castle\"]\n",
            "Fetching page: \"Hydrothermal vent\"\n",
            "Information Source: https://en.wikipedia.org/wiki/Hydrothermal_vent\n",
            "Hydrothermal vent did not match with any page id, hence skipping.\n",
            "Fetching page: \"Scaly-foot gastropod\"\n",
            "Information Source: https://en.wikipedia.org/wiki/Scaly-foot_gastropod\n",
            "Scaly-foot gastropod did not match with any page id, hence skipping.\n",
            "Fetching page: \"Loki's Castle\"\n",
            "Information Source: https://en.wikipedia.org/wiki/Loki%27s_Castle\n",
            "Searching for \"deep-sea chemosynthesis\"\n",
            "Related search terms: ['Deep-sea community', 'Deep sea', 'Chemosynthesis']\n",
            "Fetching page: \"Chemosynthesis\"\n",
            "Information Source: https://en.wikipedia.org/wiki/Chemosynthesis\n",
            "Chemosynthesis did not match with any page id, hence skipping.\n",
            "Searching for \"how do deep-sea creatures get energy?\"\n",
            "Related search terms: ['Subnautica', 'Anglerfish', 'King (2003 TV series)']\n",
            "Fetching page: \"Subnautica\"\n",
            "Information Source: https://en.wikipedia.org/wiki/Subnautica\n",
            "Fetching page: \"Anglerfish\"\n",
            "Information Source: https://en.wikipedia.org/wiki/Anglerfish\n",
            "Anglerfish did not match with any page id, hence skipping.\n",
            "Fetching page: \"King (2003 TV series)\"\n",
            "Information Source: https://en.wikipedia.org/wiki/King_(2003_TV_series)\n",
            "Searching for \"deep-sea food web\"\n",
            "Related search terms: ['Deep-sea community', 'Deep sea mining', 'Chondrocladia concrescens']\n",
            "Fetching page: \"Chondrocladia concrescens\"\n",
            "Information Source: https://en.wikipedia.org/wiki/Chondrocladia_concrescens\n",
            "Searching for \"challenges of deep-sea life\"\n",
            "Related search terms: ['Deepsea Challenger', 'Deep-sea community', 'Deep sea']\n",
            "Fetching page: \"Deepsea Challenger\"\n",
            "Information Source: https://en.wikipedia.org/wiki/Deepsea_Challenger\n",
            "Searching for \"deep-sea pressure adaptations\"\n",
            "Related search terms: ['Deep sea', 'Deep-sea gigantism', 'Deep-sea fish']\n",
            "Searching for \"deep-sea temperature adaptations\"\n",
            "Related search terms: ['Deep-sea gigantism', 'Deep sea', 'Deep-sea fish']\n",
            "Searching for \"deep-sea oxygen levels\"\n",
            "Related search terms: ['Deep-sea gigantism', 'Deep-sea fish', 'Deep sea mining']\n",
            "Searching for \"bioluminescence in deep-sea life\"\n",
            "Related search terms: ['Deep sea', 'Deep-sea fish', 'Hydrothermal vent']\n",
            "Information Sources:\n",
            "     https://en.wikipedia.org/wiki/Deep_sea\n",
            "     https://en.wikipedia.org/wiki/Deep-sea_fish\n",
            "     https://en.wikipedia.org/wiki/Deep-sea_gigantism\n",
            "     https://en.wikipedia.org/wiki/Deep-sea_community\n",
            "     https://en.wikipedia.org/wiki/Deep_sea_mining\n",
            "     https://en.wikipedia.org/wiki/Hydrothermal_vent\n",
            "     https://en.wikipedia.org/wiki/Scaly-foot_gastropod\n",
            "     https://en.wikipedia.org/wiki/Loki%27s_Castle\n",
            "     https://en.wikipedia.org/wiki/Chemosynthesis\n",
            "     https://en.wikipedia.org/wiki/Subnautica\n",
            "     https://en.wikipedia.org/wiki/Anglerfish\n",
            "     https://en.wikipedia.org/wiki/King_(2003_TV_series)\n",
            "     https://en.wikipedia.org/wiki/Chondrocladia_concrescens\n",
            "     https://en.wikipedia.org/wiki/Deepsea_Challenger\n"
          ]
        }
      ],
      "source": [
        "summaries = wikipedia_search(**fc['args'])"
      ]
    },
    {
      "cell_type": "markdown",
      "metadata": {
        "id": "kv4WGnG_gT3F"
      },
      "source": [
        "Now send the `FunctionResult` to the model."
      ]
    },
    {
      "cell_type": "code",
      "execution_count": 22,
      "metadata": {
        "id": "bcLuieHqj9PW",
        "outputId": "90f4bcff-7076-48a2-ef2e-af0461835159",
        "colab": {
          "base_uri": "https://localhost:8080/",
          "height": 207
        }
      },
      "outputs": [
        {
          "output_type": "execute_result",
          "data": {
            "text/plain": [
              "<IPython.core.display.Markdown object>"
            ],
            "text/markdown": "> Deep-sea life survives in a challenging environment through various adaptations. Here's a breakdown:\n> \n> *   **Gigantism:** Deep-sea animals tend to be larger than their shallow-water relatives, potentially due to colder temperatures, food scarcity, reduced predation, and increased dissolved oxygen.\n> *   **Food Scarcity:** Some creatures, like giant isopods, gorge on food when available and can survive for extended periods without it.\n> *   **Hydrothermal Vent Ecosystems:** Some deep-sea life thrives around hydrothermal vents, which provide energy through chemosynthesis. These vents release fluids rich in volatile gases like hydrogen sulfide, hydrogen, and methane. Bacteria mats around the vents, including Epsilonproteobacteria and Gammaproteobacteria, oxidize hydrogen and hydrogen sulfide.\n> *   **Deep-Sea Food Web:** The ping pong tree sponge captures small crustaceans and other invertebrates. It also provides shelter for other deep-sea species."
          },
          "metadata": {},
          "execution_count": 22
        }
      ],
      "source": [
        "response = chat.send_message(\n",
        "    genai.protos.Content(\n",
        "      parts=[genai.protos.Part(\n",
        "          function_response = genai.protos.FunctionResponse(\n",
        "            name='wikipedia_search',\n",
        "            response={'result': summaries}\n",
        "          )\n",
        "      )]\n",
        "    )\n",
        ")\n",
        "\n",
        "to_markdown(response.text)"
      ]
    },
    {
      "cell_type": "markdown",
      "metadata": {
        "id": "L2Vfv8xpmuV1"
      },
      "source": [
        "## Re-ranking the search results"
      ]
    },
    {
      "cell_type": "markdown",
      "metadata": {
        "id": "cQ3JUJLeGGzA"
      },
      "source": [
        "Helper function to embed the content:"
      ]
    },
    {
      "cell_type": "code",
      "execution_count": 23,
      "metadata": {
        "id": "mSkE7EynJBwF"
      },
      "outputs": [],
      "source": [
        "def get_embeddings(content: list[str]) -> np.ndarray:\n",
        "  embeddings = genai.embed_content('models/embedding-001', content, 'SEMANTIC_SIMILARITY')\n",
        "  embds = embeddings.get('embedding', None)\n",
        "  embds = np.array(embds).reshape(len(embds), -1)\n",
        "  return embds"
      ]
    },
    {
      "cell_type": "markdown",
      "metadata": {
        "id": "tip8ArqJf_ep"
      },
      "source": [
        "Please refer to the [embeddings guide](https://ai.google.dev/docs/embeddings_guide) for more information on embeddings."
      ]
    },
    {
      "cell_type": "markdown",
      "metadata": {
        "id": "nSPyycFuFj-_"
      },
      "source": [
        "Your next step is to define functions that you can use to calculate similarity scores between two embedding vectors. These scores will help you decide which embedding vector is the most relevant vector to the user's query.\n"
      ]
    },
    {
      "cell_type": "markdown",
      "metadata": {
        "id": "ltbB0vDsKQtI"
      },
      "source": [
        "You will now implement cosine similarity as your metric. Here returned embedding vectors will be of unit length and hence their L1 norm (`np.linalg.norm()`) will be ~1. Hence, calculating cosine similarity is esentially same as calculating their dot product score."
      ]
    },
    {
      "cell_type": "code",
      "execution_count": 24,
      "metadata": {
        "id": "9iDFdzq_JWJW"
      },
      "outputs": [],
      "source": [
        "def dot_product(a: np.ndarray, b: np.ndarray):\n",
        "  return (a @ b.T)"
      ]
    },
    {
      "cell_type": "markdown",
      "metadata": {
        "id": "MrF_1c_M_Hw3"
      },
      "source": [
        "### Similarity with user's query\n",
        "\n",
        "Now it's time to find the most relevant search result returned by the Wikipedia API.\n",
        "\n",
        "Use Gemini API to get embeddings for user's query and search results."
      ]
    },
    {
      "cell_type": "code",
      "execution_count": 25,
      "metadata": {
        "id": "gK9ryjftGDNe"
      },
      "outputs": [],
      "source": [
        "search_res = get_embeddings(summaries)\n",
        "embedded_query = get_embeddings([query])"
      ]
    },
    {
      "cell_type": "markdown",
      "metadata": {
        "id": "2wwWq30uGRG3"
      },
      "source": [
        "Calculate similarity score:"
      ]
    },
    {
      "cell_type": "code",
      "execution_count": 26,
      "metadata": {
        "id": "jWlFNYIsGV0X"
      },
      "outputs": [],
      "source": [
        "sim_value = dot_product(search_res, embedded_query)"
      ]
    },
    {
      "cell_type": "markdown",
      "metadata": {
        "id": "bJW1pQQXG2w2"
      },
      "source": [
        "using `np.argmax` best candidate is selected.\n",
        "\n",
        "**Users's Input:** Explain how deep-sea life survives.\n",
        "\n",
        "**Answer:**"
      ]
    },
    {
      "cell_type": "code",
      "execution_count": 27,
      "metadata": {
        "id": "8vDMDnCsG8Wn",
        "outputId": "fa2b7bf4-b67a-4118-aee3-c533a29d9064",
        "colab": {
          "base_uri": "https://localhost:8080/"
        }
      },
      "outputs": [
        {
          "output_type": "stream",
          "name": "stdout",
          "text": [
            "Here's the extracted information about deep-sea life adaptations from the provided source:\n",
            "\n",
            "*   **Deep-sea gigantism (abyssal gigantism):** The tendency for deep-sea dwelling animals to be larger than their shallower-water relatives.\n",
            "*   **Proposed explanations for gigantism:**\n",
            "    *   Adaptation to colder temperature\n",
            "    *   Food scarcity\n",
            "    *   Reduced predation pressure\n",
            "    *   Increased dissolved oxygen concentrations\n",
            "*   **Food Scarcity adaptation:** Giant isopods gorge on food when available and can survive 5 years without food in captivity.\n",
            "*   **Increased dissolved oxygen:** Larger organisms are able to intake more dissolved oxygen.\n",
            "\n",
            "Based on:\n",
            "  https://en.wikipedia.org/wiki/Deep-sea_gigantism\n"
          ]
        }
      ],
      "source": [
        "print(summaries[np.argmax(sim_value)])"
      ]
    },
    {
      "cell_type": "markdown",
      "metadata": {
        "id": "Ozn6mIFvoyJU"
      },
      "source": [
        "### Similarity with Hypothetical Document Embeddings (HyDE)\n",
        "\n",
        "Drawing inspiration from [Gao et al](https://arxiv.org/abs/2212.10496) the objective here is to generate a template answer to the user's query using `gemini-2.0-flash`'s internal knowledge. This hypothetical answer will serve as a baseline to calculate relevance of all the search results."
      ]
    },
    {
      "cell_type": "code",
      "execution_count": 28,
      "metadata": {
        "id": "J7m5KAkMREBH",
        "outputId": "a89ad379-776b-4969-9928-e92115bef3e9",
        "colab": {
          "base_uri": "https://localhost:8080/",
          "height": 480
        }
      },
      "outputs": [
        {
          "output_type": "execute_result",
          "data": {
            "text/plain": [
              "<IPython.core.display.Markdown object>"
            ],
            "text/markdown": "> Okay, imagine the deep sea as this completely alien planet, right? It's nothing like the surface. We're talking crushing pressures, like having a [GiantPlaceholderNumber] elephants standing on your head! And absolute darkness, colder than a [SpecificGeographicLocationPlaceholder] winter. So how do anything survive down there?\n> \n> Well, it's all about adaptation and a really, really robust ecosystem built on some pretty unusual energy sources.\n> \n> First off, those pressures. You'd think they'd just implode everything, but deep-sea creatures have evolved some clever ways around it. Their bodies are often lacking air-filled cavities like lungs or swim bladders. Instead, they tend to be built with a high water content and unique cell structures that are incredibly resistant to compression. Think of them less like squishy beach balls and more like… well, a super dense [RandomObjectPlaceholder].\n> \n> Then there's the darkness. Photosynthesis? Forget about it! No sunlight means no plants. Instead, deep-sea ecosystems rely heavily on \"marine snow\" - which is basically organic debris raining down from the sunlit surface waters. Imagine a constant, albeit sparse, snowfall of dead plankton, fish poop, and other goodies. This is the base of the food chain for many creatures. Things like [PlaceholderAnimalName], which is a detritivore, filter-feed on this stuff.\n> \n> But that's not the *only* energy source. Around hydrothermal vents, volcanic hotspots on the ocean floor, things get really interesting. These vents spew out chemicals like hydrogen sulfide and methane. Bacteria and archaea, some incredibly hardy single-celled organisms, are able to chemosynthesize – basically, they create energy from these chemicals, just like plants create energy from the sun. These chemosynthetic bacteria form the base of a whole new food chain around the vents. So you get things like tube worms, which have no mouth or gut, relying entirely on symbiotic bacteria living inside them. It's like a little [AbstractConceptPlaceholder] factory in their bodies!\n> \n> So, you have creatures adapted to the pressure, feeding on marine snow or chemosynthetic bacteria, and you have incredible food webs built upon these adaptations. And let's not forget bioluminescence! Many deep-sea creatures can create their own light. This isn't just for show; it's used for attracting prey, communicating, camouflage, and even warding off predators. Think of the anglerfish with its glowing lure – that's a classic example of bioluminescence in action.\n> \n> Basically, deep-sea life is a testament to the power of evolution and adaptation. It's a bizarre, beautiful, and incredibly resilient ecosystem operating under conditions that would be utterly inhospitable to most life on Earth. It's a reminder that life finds a way, even in the most extreme environments, by being a real [FunnyAdjectivePlaceholder] ecosystem.\n"
          },
          "metadata": {},
          "execution_count": 28
        }
      ],
      "source": [
        "hypothetical_ans_model = genai.GenerativeModel('gemini-2.0-flash')\n",
        "res = hypothetical_ans_model.generate_content(f\"\"\"Generate a hypothetical answer\n",
        "to the user's query by using your own knowledge. Assume that you know everything\n",
        "about the said topic. Do not use factual information, instead use placeholders\n",
        "to complete your answer. Your answer should feel like it has been written by a human.\n",
        "\n",
        "query: {query}\"\"\")\n",
        "\n",
        "to_markdown(res.text)"
      ]
    },
    {
      "cell_type": "markdown",
      "metadata": {
        "id": "85f4MpLgrYbW"
      },
      "source": [
        "Use Gemini API to get embeddings for the baseline answer and compare them with search results"
      ]
    },
    {
      "cell_type": "code",
      "execution_count": 29,
      "metadata": {
        "id": "fSI6-5eYI3me"
      },
      "outputs": [],
      "source": [
        "hypothetical_ans = get_embeddings([res.text])"
      ]
    },
    {
      "cell_type": "markdown",
      "metadata": {
        "id": "WxYGEWbqrh44"
      },
      "source": [
        "Calculate similarity scores to rank the search results"
      ]
    },
    {
      "cell_type": "code",
      "execution_count": 30,
      "metadata": {
        "id": "99sjvMtlJfL_"
      },
      "outputs": [],
      "source": [
        "sim_value = dot_product(search_res, hypothetical_ans)"
      ]
    },
    {
      "cell_type": "code",
      "execution_count": 31,
      "metadata": {
        "id": "C32IhIapQFNa",
        "outputId": "99bcea8f-6625-4e1a-e2cf-23122040a848",
        "colab": {
          "base_uri": "https://localhost:8080/"
        }
      },
      "outputs": [
        {
          "output_type": "execute_result",
          "data": {
            "text/plain": [
              "array([[0.76211845],\n",
              "       [0.646311  ],\n",
              "       [0.73430291],\n",
              "       [0.71097457],\n",
              "       [0.73318881],\n",
              "       [0.69100806]])"
            ]
          },
          "metadata": {},
          "execution_count": 31
        }
      ],
      "source": [
        "sim_value"
      ]
    },
    {
      "cell_type": "markdown",
      "metadata": {
        "id": "wJ7pklxursSk"
      },
      "source": [
        "using `np.argmax` best candidate is selected.\n",
        "\n",
        "**Users's Input:** Explain how deep-sea life survives.\n",
        "\n",
        "**Answer:**"
      ]
    },
    {
      "cell_type": "code",
      "execution_count": 32,
      "metadata": {
        "id": "MzTfyU_mJ8-M",
        "outputId": "c6a4301e-7f76-45c4-cbe0-b7d763adf3be",
        "colab": {
          "base_uri": "https://localhost:8080/",
          "height": 243
        }
      },
      "outputs": [
        {
          "output_type": "execute_result",
          "data": {
            "text/plain": [
              "<IPython.core.display.Markdown object>"
            ],
            "text/markdown": "> Here's the extracted information about deep-sea life adaptations from the provided source:\n> \n> *   **Deep-sea gigantism (abyssal gigantism):** The tendency for deep-sea dwelling animals to be larger than their shallower-water relatives.\n> *   **Proposed explanations for gigantism:**\n>     *   Adaptation to colder temperature\n>     *   Food scarcity\n>     *   Reduced predation pressure\n>     *   Increased dissolved oxygen concentrations\n> *   **Food Scarcity adaptation:** Giant isopods gorge on food when available and can survive 5 years without food in captivity.\n> *   **Increased dissolved oxygen:** Larger organisms are able to intake more dissolved oxygen.\n> \n> Based on:\n>   https://en.wikipedia.org/wiki/Deep-sea_gigantism"
          },
          "metadata": {},
          "execution_count": 32
        }
      ],
      "source": [
        "to_markdown(summaries[np.argmax(sim_value)])"
      ]
    },
    {
      "cell_type": "markdown",
      "metadata": {
        "id": "UjDN2OUpsL6M"
      },
      "source": [
        "You have now created a search re-ranking engine using embeddings!"
      ]
    },
    {
      "cell_type": "markdown",
      "metadata": {
        "id": "AKH2vs2Lc1R1"
      },
      "source": [
        "## Next steps\n",
        "\n",
        "I hope you found this example helpful! Check out more examples in the [Gemini Guide](https://github.com/google-gemini/gemini-guide/) to learn more."
      ]
    },
    {
      "cell_type": "code",
      "source": [],
      "metadata": {
        "id": "JI58H-MtW8jj"
      },
      "execution_count": null,
      "outputs": []
    }
  ],
  "metadata": {
    "colab": {
      "name": "Search_reranking_using_embeddings.ipynb",
      "provenance": []
    },
    "kernelspec": {
      "display_name": "Python 3",
      "name": "python3"
    }
  },
  "nbformat": 4,
  "nbformat_minor": 0
}